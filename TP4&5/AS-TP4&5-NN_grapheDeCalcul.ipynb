{
 "cells": [
  {
   "cell_type": "code",
   "execution_count": 27,
   "metadata": {
    "collapsed": true
   },
   "outputs": [],
   "source": [
    "import torch\n",
    "from torchvision import datasets, transforms\n",
    "import torch.autograd \n",
    "import torch.nn as nn\n",
    "import torch.nn.functional as F\n",
    "from torch.autograd import Variable\n",
    "import numpy as np\n",
    "from numba import vectorize,cuda\n",
    "import random \n",
    "import time\n",
    "\n",
    "train_loader= torch.utils.data.DataLoader(datasets.MNIST('../data', train=True, download=True, transform=transforms.Compose([transforms.ToTensor(), transforms.Normalize((0.1307,),(0.3081,))])), batch_size=64, shuffle=True) \n",
    "test_loader = torch.utils.data.DataLoader(datasets.MNIST('../data', train=False, download=True, transform=transforms.Compose([transforms.ToTensor(), transforms.Normalize((0.1307,),(0.3081,))])), batch_size=64, shuffle=True) \n",
    "\n",
    "\n",
    "\n",
    "MaxEpoch=10\n",
    "\n",
    "accuracy_train_1 =np.zeros(MaxEpoch)\n",
    "accuracy_test_1 = np.zeros(MaxEpoch)\n",
    "\n",
    "accuracy_train_2 =np.zeros(MaxEpoch)\n",
    "accuracy_test_2 = np.zeros(MaxEpoch)\n"
   ]
  },
  {
   "cell_type": "code",
   "execution_count": null,
   "metadata": {
    "collapsed": true
   },
   "outputs": [],
   "source": []
  },
  {
   "cell_type": "code",
   "execution_count": 29,
   "metadata": {
    "collapsed": true
   },
   "outputs": [],
   "source": [
    "class Model(nn.Module):\n",
    "    def __init__(self):\n",
    "        nn.Module.__init__(self)\n",
    "        self.m=nn.Linear(784,10)\n",
    "        \n",
    "    def forward(self,x):\n",
    "        return(F.tanh(self.m((x))))"
   ]
  },
  {
   "cell_type": "code",
   "execution_count": 33,
   "metadata": {},
   "outputs": [
    {
     "name": "stdout",
     "output_type": "stream",
     "text": [
      "The Gradient descent took 1.987 min\n"
     ]
    },
    {
     "data": {
      "image/png": "[encoded data removed]",
      "text/plain": [
       "<matplotlib.figure.Figure at 0x11e436128>"
      ]
     },
     "metadata": {},
     "output_type": "display_data"
    },
    {
     "name": "stdout",
     "output_type": "stream",
     "text": [
      "La valeur d'accuracy en test à la dernière itération est de 0.86868688\n"
     ]
    }
   ],
   "source": [
    "module=Model()\n",
    "module.m.weight.data.uniform_(-0.001, 0.001) \n",
    "l = nn.MSELoss()\n",
    "optimizer= torch.optim.SGD(module.parameters(),lr=0.0002)\n",
    "start=time.time()\n",
    "\n",
    "for iteration in range(MaxEpoch) :   \n",
    "    for x,y in train_loader:\n",
    "        optimizer.zero_grad()\n",
    "        inp=x.view(x.size()[0],784)\n",
    "        inp=Variable(inp)\n",
    "\n",
    "        target = y\n",
    "        y_test = torch.LongTensor(target.unsqueeze(1))\n",
    "        y2 = torch.FloatTensor(y.size()[0], 10).fill_(-1)\n",
    "        y2 = y2.scatter_(1,y_test,1)\n",
    "        y2= Variable(y2)\n",
    "        \n",
    "        out= module.forward(inp)\n",
    "        err =l.forward(out,y2)\n",
    "        err.backward()\n",
    "        optimizer.step()\n",
    "    \n",
    "    #loss_train[iteration] = loss.data[0]\n",
    "    for x1,y1 in train_loader:\n",
    "        x1= Variable(x1.view(x1.size()[0],28*28))\n",
    "        y1= Variable(y1)\n",
    "        a= sum(torch.max(module.forward(x1).t(),0)[1]==y1)\n",
    "        accuracy_train_1[iteration] += a.data[0]\n",
    "    accuracy_train_1[iteration] /= train_loader.dataset.train_data.size()[0]\n",
    "\n",
    "    for x1,y1 in test_loader:\n",
    "        x1= Variable(x1.view(x1.size()[0],28*28))\n",
    "        y1= Variable(y1)\n",
    "        a= sum(torch.max(module.forward(x1).t(),0)[1]==y1)\n",
    "        accuracy_test_1[iteration] += a.data[0]\n",
    "    accuracy_test_1[iteration] /= test_loader.dataset.test_data.size()[0]\n",
    "\n",
    "\n",
    "print('The Gradient descent took '+ str(round((time.time()-start)/60,3))+' min')\n",
    "import matplotlib.pyplot as plt\n",
    "\n",
    "plt.plot(accuracy_train_1,'y',marker='o')\n",
    "plt.plot(accuracy_test_1,'b',marker='o')\n",
    "plt.show()\n",
    "\n",
    "print(\"La valeur d'accuracy en test à la dernière itération est de \" + str(accuracy_test_1[MaxEpoch-1]))\n"
   ]
  },
  {
   "cell_type": "markdown",
   "metadata": {},
   "source": [
    "# Essayons avec un optimizer plus puissant, ADAMAX"
   ]
  },
  {
   "cell_type": "code",
   "execution_count": 34,
   "metadata": {},
   "outputs": [
    {
     "name": "stdout",
     "output_type": "stream",
     "text": [
      "The Gradient descent took 2.02 min\n"
     ]
    },
    {
     "data": {
      "image/png": "[encoded data removed]",
      "text/plain": [
       "<matplotlib.figure.Figure at 0x111dfd4e0>"
      ]
     },
     "metadata": {},
     "output_type": "display_data"
    },
    {
     "name": "stdout",
     "output_type": "stream",
     "text": [
      "La valeur d'accuracy en test à la dernière itération est de 0.91688686\n"
     ]
    }
   ],
   "source": [
    "module=Model()\n",
    "module.m.weight.data.uniform_(-0.001, 0.001) \n",
    "l = nn.MSELoss()\n",
    "\n",
    "optimizer= torch.optim.Adamax(module.parameters(),lr=0.0002)\n",
    "start=time.time()\n",
    "for iteration in range(MaxEpoch) :   \n",
    "    for x,y in train_loader:\n",
    "        inp=x.view(x.size()[0],784)\n",
    "        inp=Variable(inp)\n",
    "\n",
    "        target = y\n",
    "        y_test = torch.LongTensor(target.unsqueeze(1))\n",
    "        y2 = torch.FloatTensor(y.size()[0], 10).fill_(-1)\n",
    "        y2 = y2.scatter_(1,y_test,1)\n",
    "        y2= Variable(y2)\n",
    "        optimizer.zero_grad()\n",
    "        out= module.forward(inp)\n",
    "        err =l.forward(out,y2)\n",
    "        err.backward()\n",
    "        optimizer.step()\n",
    "    \n",
    "    #loss_train[iteration] = loss.data[0]\n",
    "    for x1,y1 in train_loader:\n",
    "        x1= Variable(x1.view(x1.size()[0],28*28))\n",
    "        y1= Variable(y1)\n",
    "        a= sum(torch.max(module.forward(x1).t(),0)[1]==y1)\n",
    "        accuracy_train_2[iteration] += a.data[0]\n",
    "    accuracy_train_2[iteration] /= train_loader.dataset.train_data.size()[0]\n",
    "\n",
    "    for x1,y1 in test_loader:\n",
    "        x1= Variable(x1.view(x1.size()[0],28*28))\n",
    "        y1= Variable(y1)\n",
    "        a= sum(torch.max(module.forward(x1).t(),0)[1]==y1)\n",
    "        accuracy_test_2[iteration] += a.data[0]\n",
    "    accuracy_test_2[iteration] /= test_loader.dataset.test_data.size()[0]\n",
    "\n",
    "print('The Gradient descent took '+ str(round((time.time()-start)/60,3))+' min')\n",
    "import matplotlib.pyplot as plt\n",
    "\n",
    "plt.plot(accuracy_train,'y',marker='o')\n",
    "plt.plot(accuracy_test,'b',marker='o')\n",
    "plt.show()\n",
    "\n",
    "print(\"La valeur d'accuracy en test à la dernière itération est de \" + str(accuracy_test[MaxEpoch-1]))\n"
   ]
  },
  {
   "cell_type": "markdown",
   "metadata": {
    "collapsed": true
   },
   "source": [
    "# Extrement rapide et précis par rapport à la version sans torch et sans l'optimizer"
   ]
  },
  {
   "cell_type": "code",
   "execution_count": null,
   "metadata": {
    "collapsed": true
   },
   "outputs": [],
   "source": []
  }
 ],
 "metadata": {
  "kernelspec": {
   "display_name": "Python 3",
   "language": "python",
   "name": "python3"
  },
  "language_info": {
   "codemirror_mode": {
    "name": "ipython",
    "version": 3
   },
   "file_extension": ".py",
   "mimetype": "text/x-python",
   "name": "python",
   "nbconvert_exporter": "python",
   "pygments_lexer": "ipython3",
   "version": "3.6.2"
  }
 },
 "nbformat": 4,
 "nbformat_minor": 2
}
