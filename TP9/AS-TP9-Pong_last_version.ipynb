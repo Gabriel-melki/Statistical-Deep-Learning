{
 "cells": [
  {
   "cell_type": "code",
   "execution_count": 2,
   "metadata": {
    "collapsed": true
   },
   "outputs": [],
   "source": [
    "import gym\n",
    "import numpy as np\n",
    "import torch\n",
    "import torch.autograd as autograd\n",
    "import torch.nn as nn\n",
    "import torch.nn.functional as F\n",
    "import torch.optim as optim\n",
    "from matplotlib import pyplot as plt\n",
    "import matplotlib.pyplot as plt\n",
    "\n",
    "\n",
    "## code de  http://karpathy.github.io/2016/05/31/rl/ pour\n",
    "## preprocesser une image du jeu (scale down, monochrome)\n",
    "def prepro(I):\n",
    "    \"\"\" preprocessing 210x160x3 uint8 frame into 6400 (80x80) 1D float vector \"\"\"\n",
    "    I = I[35:195] # crop\n",
    "    I = I[::2,::2,0] # downsample by factor of 2\n",
    "    I[I == 144] = 0 # erase background (background type 1)\n",
    "    I[I == 109] = 0 # erase background (background type 2)\n",
    "    I[I != 0] = 1 # everything else (paddles, ball) just set to 1\n",
    "    return I.astype(np.float).ravel()\n",
    "\n",
    "\n",
    "class RL(nn.Module):\n",
    "    def __init__(self,input_size, hidden_size, output_size):\n",
    "        nn.Module.__init__(self)\n",
    "        self.L1 = nn.Linear(input_size ,hidden_size)\n",
    "        self.L2 = nn.Linear(hidden_size ,output_size)\n",
    "    def forward(self,X):\n",
    "        res = F.log_softmax(self.L2(F.relu(self.L1(X))))     \n",
    "        return res\n",
    "\n",
    "def discount_rewards(r):\n",
    "    \"\"\" take 1D float array of rewards and compute discounted reward \"\"\"\n",
    "    discounted_r = np.zeros_like(r)\n",
    "    running_add = 0\n",
    "    for t in reversed(range(0, len(r))):\n",
    "        if r[t] != 0: running_add = 0 # reset the sum, since this was a game boundary (pong specific!)\n",
    "        running_add = running_add * discount_factor + r[t]\n",
    "        discounted_r[t] = running_add\n",
    "    return discounted_r\n"
   ]
  },
  {
   "cell_type": "code",
   "execution_count": 10,
   "metadata": {},
   "outputs": [
    {
     "name": "stdout",
     "output_type": "stream",
     "text": [
      "-19.0\n",
      "-20.0\n",
      "-21.0\n",
      "-21.0\n",
      "-21.0\n",
      "-21.0\n",
      "-21.0\n",
      "-20.0\n",
      "-20.0\n",
      "-19.0\n",
      "-20.0\n",
      "-19.0\n",
      "-21.0\n",
      "-21.0\n",
      "-20.0\n",
      "-20.0\n",
      "-18.0\n",
      "-20.0\n",
      "-20.0\n",
      "-19.0\n"
     ]
    }
   ],
   "source": [
    "env = gym.make('Pong-v0') #charge l'environement\n",
    "observation = env.reset()\n",
    "\n",
    "l = 0.\n",
    "r = []\n",
    "\n",
    "discount_factor = 0.8\n",
    "previous_x = prepro(observation)\n",
    "\n",
    "\n",
    "input_size = len(previous_x)\n",
    "nb_actions = 3\n",
    "hidden = 200\n",
    "\n",
    "model = RL(input_size, hidden, nb_actions)\n",
    "loss =[]\n",
    "loss_to_print= []\n",
    "\n",
    "optimizer = torch.optim.Adam(model.parameters(),lr=0.0001)\n",
    "reward_arr = []\n",
    "l=[]\n",
    "episode_number=0\n",
    "env.reset()\n",
    "\n",
    "\n",
    "score=[]\n",
    "\n",
    "while(episode_number<20):\n",
    "    env.render()\n",
    "    to_print =0\n",
    "    current_x = prepro(observation)\n",
    "    x = current_x - previous_x \n",
    "    previous_x = current_x\n",
    "    \n",
    "    x = autograd.Variable(torch.FloatTensor(x))\n",
    "    logP = model(x)\n",
    "    a = logP.exp().multinomial()\n",
    "\n",
    "    a_value = a.data.numpy()[0]\n",
    "\n",
    "    logPa = logP[a_value]\n",
    "    l.append(logPa)       \n",
    "\n",
    "    observation, reward, done, info = env.step(a_value+1)\n",
    "    \n",
    "    r.append(reward)\n",
    "    \n",
    "    if(reward !=0): score.append(reward)\n",
    "    #env.render()\n",
    "    # \n",
    "    if(done): # an point is finished\n",
    "        optimizer.zero_grad()\n",
    "        \n",
    "        disc_rewards = discount_rewards(r)\n",
    "        #standardize the rewards to be unit normal (helps control the gradient estimator variance)\n",
    "        disc_rewards = (disc_rewards - np.mean(disc_rewards)) / np.std(disc_rewards)\n",
    "\n",
    "        optimizer.zero_grad()\n",
    "        \n",
    "        loss = []\n",
    "        for i in range(len(disc_rewards)):\n",
    "            loss.append(-l[i] * disc_rewards[i])\n",
    "       \n",
    "        loss1 = torch.cat(loss).sum()\n",
    "        \n",
    "        loss1.backward()\n",
    "        loss_to_print.append(loss1.data[0])\n",
    "        optimizer.step()\n",
    "\n",
    "        \n",
    "        r=[]\n",
    "        l=[]\n",
    "        \n",
    "\n",
    "        episode_number += 1\n",
    "        score= np.sum(score)\n",
    "        print(score)\n",
    "        score=[]\n",
    "        env.reset()\n",
    "\n"
   ]
  },
  {
   "cell_type": "code",
   "execution_count": 11,
   "metadata": {},
   "outputs": [
    {
     "data": {
      "image/png": "[encoded data removed]",
      "text/plain": [
       "<matplotlib.figure.Figure at 0x11462a390>"
      ]
     },
     "metadata": {},
     "output_type": "display_data"
    }
   ],
   "source": [
    "plt.plot(loss_to_print)\n",
    "plt.show()"
   ]
  },
  {
   "cell_type": "markdown",
   "metadata": {},
   "source": []
  },
  {
   "cell_type": "code",
   "execution_count": null,
   "metadata": {
    "collapsed": true
   },
   "outputs": [],
   "source": []
  },
  {
   "cell_type": "code",
   "execution_count": null,
   "metadata": {
    "collapsed": true
   },
   "outputs": [],
   "source": []
  },
  {
   "cell_type": "code",
   "execution_count": null,
   "metadata": {
    "collapsed": true
   },
   "outputs": [],
   "source": []
  },
  {
   "cell_type": "code",
   "execution_count": null,
   "metadata": {
    "collapsed": true
   },
   "outputs": [],
   "source": []
  },
  {
   "cell_type": "code",
   "execution_count": null,
   "metadata": {
    "collapsed": true
   },
   "outputs": [],
   "source": []
  }
 ],
 "metadata": {
  "kernelspec": {
   "display_name": "Python 3",
   "language": "python",
   "name": "python3"
  },
  "language_info": {
   "codemirror_mode": {
    "name": "ipython",
    "version": 3
   },
   "file_extension": ".py",
   "mimetype": "text/x-python",
   "name": "python",
   "nbconvert_exporter": "python",
   "pygments_lexer": "ipython3",
   "version": "3.6.2"
  }
 },
 "nbformat": 4,
 "nbformat_minor": 2
}
