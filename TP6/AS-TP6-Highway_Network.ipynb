{
 "cells": [
  {
   "cell_type": "code",
   "execution_count": 11,
   "metadata": {
    "collapsed": true
   },
   "outputs": [],
   "source": [
    "import torch\n",
    "from torchvision import datasets, transforms\n",
    "import torch.autograd \n",
    "import torch.nn as nn\n",
    "import torch.nn.functional as F\n",
    "from torch.autograd import Variable\n",
    "import numpy as np\n",
    "from numba import vectorize,cuda\n",
    "import random \n",
    "import time\n",
    "import math\n",
    "\n",
    "train_loader= torch.utils.data.DataLoader(datasets.MNIST('../data', train=True, download=True, transform=transforms.Compose([transforms.ToTensor(), transforms.Normalize((0.1307,),(0.3081,))])), batch_size=64, shuffle=True) \n",
    "test_loader = torch.utils.data.DataLoader(datasets.MNIST('../data', train=False, download=True, transform=transforms.Compose([transforms.ToTensor(), transforms.Normalize((0.1307,),(0.3081,))])), batch_size=64, shuffle=True) \n",
    "\n",
    "MaxEpoch=20\n",
    "\n",
    "accuracy_train_1 =np.zeros(int(MaxEpoch/3)+1)\n",
    "accuracy_test_1 = np.zeros(int(MaxEpoch/3)+1)\n",
    "\n",
    "accuracy_train_2 =np.zeros(int(MaxEpoch/3)+1)\n",
    "accuracy_test_2 = np.zeros(int(MaxEpoch/3)+1)"
   ]
  },
  {
   "cell_type": "code",
   "execution_count": 12,
   "metadata": {
    "collapsed": true
   },
   "outputs": [],
   "source": [
    "import torch.nn as nn\n",
    "import torch.nn.functional as F\n",
    "\n",
    "\n",
    "class Highway(nn.Module):\n",
    "    def __init__(self, size_entrance, size, size_exit, num_layers, f):\n",
    "        \n",
    "        super(Highway, self).__init__()\n",
    "\n",
    "        self.num_layers = num_layers\n",
    "\n",
    "        self.nonlinear = nn.ModuleList([nn.Linear(size, size) for _ in range(num_layers)])\n",
    "\n",
    "        self.linear = nn.ModuleList([nn.Linear(size, size) for _ in range(num_layers)])\n",
    "\n",
    "        self.gate = nn.ModuleList([nn.Linear(size, size) for _ in range(num_layers)])\n",
    "\n",
    "        self.f = f\n",
    "\n",
    "        self.first=nn.Linear(size_entrance,size)\n",
    "        \n",
    "        self.last=nn.Linear(size,size_exit)\n",
    "        \n",
    "    def forward(self, x):\n",
    "        x  =self.f(self.first(x))\n",
    "        for layer in range(self.num_layers):\n",
    "            gate = F.sigmoid(self.gate[layer](x))\n",
    "\n",
    "            nonlinear = self.f(self.nonlinear[layer](x))\n",
    "            linear = self.linear[layer](x)\n",
    "\n",
    "            x = gate * nonlinear + (1 - gate) * linear\n",
    "\n",
    "        return torch.log(F.softmax(self.last(x)))\n",
    "\n",
    "    \n",
    "class Model(nn.Module):\n",
    "    def __init__(self):\n",
    "        nn.Module.__init__(self)\n",
    "        self.m=nn.Linear(784,10)\n",
    "        \n",
    "    def forward(self,x):\n",
    "        return(F.tanh(self.m((x))))"
   ]
  },
  {
   "cell_type": "code",
   "execution_count": 13,
   "metadata": {},
   "outputs": [
    {
     "name": "stdout",
     "output_type": "stream",
     "text": [
      "The Gradient descent took 4.988 min\n"
     ]
    },
    {
     "data": {
      "image/png": "[encoded data removed]",
      "text/plain": [
       "<matplotlib.figure.Figure at 0x11ca5c9b0>"
      ]
     },
     "metadata": {},
     "output_type": "display_data"
    },
    {
     "name": "stdout",
     "output_type": "stream",
     "text": [
      "La valeur d'accuracy en test à la dernière itération est de 0.9741\n"
     ]
    }
   ],
   "source": [
    "hw = Highway(size_entrance=28*28,\n",
    "             size=50,\n",
    "             size_exit=10,\n",
    "             num_layers=2, \n",
    "             f=F.tanh)\n",
    "\n",
    "l = nn.NLLLoss()\n",
    "optimizer1 = torch.optim.Adamax(hw.parameters(),lr=0.005)\n",
    "\n",
    "r=0\n",
    "\n",
    "start=time.time()\n",
    "for iteration in range(MaxEpoch) :   \n",
    "    for x,y in train_loader:\n",
    "        optimizer1.zero_grad()\n",
    "       \n",
    "        inp=x.view(x.size()[0],784)\n",
    "        inp=Variable(inp)\n",
    "        \n",
    "        out= hw.forward(inp)\n",
    "        err =l.forward(out,Variable(y))\n",
    "        err.backward()\n",
    "        \n",
    "        optimizer1.step()\n",
    "        \n",
    "\n",
    "    if(iteration%3==0):\n",
    "        for x1,y1 in train_loader:\n",
    "            x1= Variable(x1.view(x1.size()[0],28*28))\n",
    "            y1= Variable(y1)\n",
    "            a= sum(torch.max(hw.forward(x1).t(),0)[1]==y1)\n",
    "            accuracy_train_1[r] += a.data[0]\n",
    "        accuracy_train_1[r] /= train_loader.dataset.train_data.size()[0]\n",
    "\n",
    "        for x1,y1 in test_loader:\n",
    "            x1= Variable(x1.view(x1.size()[0],28*28))\n",
    "            y1= Variable(y1)\n",
    "            a= sum(torch.max(hw.forward(x1).t(),0)[1]==y1)\n",
    "            accuracy_test_1[r] += a.data[0]\n",
    "        accuracy_test_1[r] /= test_loader.dataset.test_data.size()[0]\n",
    "        r+=1\n",
    "\n",
    "print('The Gradient descent took '+ str(round((time.time()-start)/60,3))+' min')\n",
    "import matplotlib.pyplot as plt\n",
    "\n",
    "plt.plot(accuracy_train_1,'y',marker='o')\n",
    "plt.plot(accuracy_test_1,'b',marker='o')\n",
    "plt.show()\n",
    "\n",
    "print(\"La valeur d'accuracy en test à la dernière itération est de \" + str(accuracy_test_1[r-1]))"
   ]
  },
  {
   "cell_type": "code",
   "execution_count": null,
   "metadata": {
    "collapsed": true
   },
   "outputs": [],
   "source": []
  },
  {
   "cell_type": "code",
   "execution_count": 14,
   "metadata": {
    "collapsed": true
   },
   "outputs": [],
   "source": [
    "import torch.nn as nn\n",
    "import torch.nn.functional as F\n",
    "\n",
    "class neural_net(nn.Module):\n",
    "    def __init__(self, num_layers, size_list, f):\n",
    "\n",
    "        super(neural_net, self).__init__()\n",
    "\n",
    "        self.num_layers = num_layers\n",
    "\n",
    "        self.linear = nn.ModuleList([nn.Linear(size_list[i], size_list[i+1]) for i in range(num_layers)])\n",
    "\n",
    "        self.f = f\n",
    "\n",
    "    def forward(self, x):\n",
    "        \n",
    "        for layer in range(self.num_layers):\n",
    "            \n",
    "            x =self.f(self.linear[layer](x))\n",
    "             \n",
    "        return x\n"
   ]
  },
  {
   "cell_type": "code",
   "execution_count": null,
   "metadata": {
    "collapsed": true
   },
   "outputs": [],
   "source": []
  },
  {
   "cell_type": "code",
   "execution_count": 15,
   "metadata": {},
   "outputs": [
    {
     "name": "stdout",
     "output_type": "stream",
     "text": [
      "The Gradient descent took 7.381 min\n"
     ]
    },
    {
     "data": {
      "image/png": "[encoded data removed]",
      "text/plain": [
       "<matplotlib.figure.Figure at 0x11e659b38>"
      ]
     },
     "metadata": {},
     "output_type": "display_data"
    },
    {
     "name": "stdout",
     "output_type": "stream",
     "text": [
      "La valeur d'accuracy en test à la dernière itération est de 0.974\n"
     ]
    }
   ],
   "source": [
    "lm = neural_net(2,[784,500,10],F.tanh)\n",
    "\n",
    "l = nn.NLLLoss()\n",
    "optimizer = torch.optim.Adamax(lm.parameters(),lr=0.0002)\n",
    "\n",
    "r=0\n",
    "\n",
    "start=time.time()\n",
    "for iteration in range(MaxEpoch) :   \n",
    "    for x,y in train_loader:\n",
    "        optimizer.zero_grad()\n",
    "        \n",
    "        inp=x.view(x.size()[0],784)\n",
    "        inp=Variable(inp)\n",
    "        \n",
    "        out= lm.forward(inp)\n",
    "        \n",
    "        err =l.forward(torch.log(F.softmax(out)),Variable(y))\n",
    "        err.backward()\n",
    "        \n",
    "        optimizer.step()\n",
    "\n",
    "\n",
    "    if(iteration%3==0):\n",
    "        for x1,y1 in train_loader:\n",
    "            x1= Variable(x1.view(x1.size()[0],28*28))\n",
    "            y1= Variable(y1)\n",
    "            a= sum(torch.max(lm.forward(x1).t(),0)[1]==y1)\n",
    "            accuracy_train_2[r] += a.data[0]\n",
    "        accuracy_train_2[r] /= train_loader.dataset.train_data.size()[0]\n",
    "\n",
    "        for x1,y1 in test_loader:\n",
    "            x1= Variable(x1.view(x1.size()[0],28*28))\n",
    "            y1= Variable(y1)\n",
    "            a= sum(torch.max(lm.forward(x1).t(),0)[1]==y1)\n",
    "            accuracy_test_2[r] += a.data[0]\n",
    "        accuracy_test_2[r] /= test_loader.dataset.test_data.size()[0]\n",
    "        r+=1\n",
    "\n",
    "print('The Gradient descent took '+ str(round((time.time()-start)/60,3))+' min')\n",
    "import matplotlib.pyplot as plt\n",
    "\n",
    "plt.plot(accuracy_train_2,'y',marker='o')\n",
    "plt.plot(accuracy_test_2,'b',marker='o')\n",
    "plt.show()\n",
    "\n",
    "print(\"La valeur d'accuracy en test à la dernière itération est de \" + str(accuracy_test_2[r-1]))\n"
   ]
  },
  {
   "cell_type": "code",
   "execution_count": null,
   "metadata": {
    "collapsed": true
   },
   "outputs": [],
   "source": []
  },
  {
   "cell_type": "code",
   "execution_count": 21,
   "metadata": {
    "collapsed": true
   },
   "outputs": [],
   "source": [
    "MaxEpoch = 20\n",
    "\n",
    "accuracy_train_1 =np.zeros(int(MaxEpoch/3)+1)\n",
    "accuracy_test_1 = np.zeros(int(MaxEpoch/3)+1)\n",
    "\n",
    "accuracy_train_2 =np.zeros(int(MaxEpoch/3)+1)\n",
    "accuracy_test_2 = np.zeros(int(MaxEpoch/3)+1)\n"
   ]
  },
  {
   "cell_type": "code",
   "execution_count": null,
   "metadata": {},
   "outputs": [],
   "source": [
    "hw = Highway(size_entrance=28*28,\n",
    "             size=50,\n",
    "             size_exit=10,\n",
    "             num_layers=5, \n",
    "            f =torch.nn.functional.relu)\n",
    "\n",
    "l = nn.NLLLoss()\n",
    "optimizer1 = torch.optim.Adamax(hw.parameters(),lr=0.003)\n",
    "\n",
    "r=0\n",
    "\n",
    "start=time.time()\n",
    "for iteration in range(MaxEpoch) :   \n",
    "    for x,y in train_loader:\n",
    "        optimizer1.zero_grad()\n",
    "       \n",
    "        inp=x.view(x.size()[0],784)\n",
    "        inp=Variable(inp)\n",
    "        \n",
    "        out= hw.forward(inp)\n",
    "        err =l.forward(out,Variable(y))\n",
    "        err.backward()\n",
    "        \n",
    "        optimizer1.step()\n",
    "        \n",
    "\n",
    "    if(iteration%3==0):\n",
    "        for x1,y1 in train_loader:\n",
    "            x1= Variable(x1.view(x1.size()[0],28*28))\n",
    "            y1= Variable(y1)\n",
    "            a= sum(torch.max(hw.forward(x1).t(),0)[1]==y1)\n",
    "            accuracy_train_1[r] += a.data[0]\n",
    "        accuracy_train_1[r] /= train_loader.dataset.train_data.size()[0]\n",
    "\n",
    "        for x1,y1 in test_loader:\n",
    "            x1= Variable(x1.view(x1.size()[0],28*28))\n",
    "            y1= Variable(y1)\n",
    "            a= sum(torch.max(hw.forward(x1).t(),0)[1]==y1)\n",
    "            accuracy_test_1[r] += a.data[0]\n",
    "        accuracy_test_1[r] /= test_loader.dataset.test_data.size()[0]\n",
    "        r+=1\n",
    "\n",
    "print('The Gradient descent took '+ str(round((time.time()-start)/60,3))+' min')\n",
    "import matplotlib.pyplot as plt\n",
    "\n",
    "plt.plot(accuracy_train_1,'y',marker='o')\n",
    "plt.plot(accuracy_test_1,'b',marker='o')\n",
    "plt.show()\n",
    "\n",
    "print(\"La valeur d'accuracy en test à la dernière itération est de \" + str(accuracy_test_1[r-1]))"
   ]
  },
  {
   "cell_type": "markdown",
   "metadata": {},
   "source": [
    "## Je n'arrive pas à trouver les bons paramètres (learning rate, poids des mudules à l'initialisation)"
   ]
  },
  {
   "cell_type": "code",
   "execution_count": 41,
   "metadata": {},
   "outputs": [
    {
     "data": {
      "text/plain": [
       "array([ 0.75746667,  0.8994    ,  0.90253333,  0.917     ,  0.9416    ,\n",
       "        0.9472    ,  0.95313333,  0.96565   ,  0.96846667,  0.97635   ,\n",
       "        0.97838333,  0.98006667,  0.9854    ,  0.98613333,  0.98958333,\n",
       "        0.99043333,  0.9874    ,  0.99081667,  0.99356667,  0.9925    ])"
      ]
     },
     "execution_count": 41,
     "metadata": {},
     "output_type": "execute_result"
    }
   ],
   "source": [
    "accuracy_train_1"
   ]
  },
  {
   "cell_type": "code",
   "execution_count": 40,
   "metadata": {},
   "outputs": [
    {
     "name": "stdout",
     "output_type": "stream",
     "text": [
      "The Gradient descent took 23.425 min\n"
     ]
    },
    {
     "data": {
      "image/png": "[encoded data removed]",
      "text/plain": [
       "<matplotlib.figure.Figure at 0x1252382b0>"
      ]
     },
     "metadata": {},
     "output_type": "display_data"
    },
    {
     "name": "stdout",
     "output_type": "stream",
     "text": [
      "La valeur d'accuracy en test à la dernière itération est de 0.1967\n"
     ]
    }
   ],
   "source": [
    "lm = neural_net(30,[784,  50,  50,  50,  50,  50,  50,  50,  50,  50,  50,  50,  50,\n",
    "        50,  50,  50,  50,  50,  50,  50,  50,  50,  50,  50,  50,  50,\n",
    "        50,  50,  50,  50,  10],F.tanh)\n",
    "\n",
    "\n",
    "l = nn.NLLLoss()\n",
    "optimizer = torch.optim.Adamax(lm.parameters(),lr=0.0002)\n",
    "\n",
    "r=0\n",
    "\n",
    "start=time.time()\n",
    "for iteration in range(MaxEpoch) :   \n",
    "    for x,y in train_loader:\n",
    "        optimizer.zero_grad()\n",
    "        \n",
    "        inp=x.view(x.size()[0],784)\n",
    "        inp=Variable(inp)\n",
    "        \n",
    "        out= lm.forward(inp)\n",
    "        \n",
    "        err =l.forward(torch.log(F.softmax(out)),Variable(y))\n",
    "        err.backward()\n",
    "        \n",
    "        optimizer.step()\n",
    "\n",
    "\n",
    "    if(iteration%3==0):\n",
    "        for x1,y1 in train_loader:\n",
    "            x1= Variable(x1.view(x1.size()[0],28*28))\n",
    "            y1= Variable(y1)\n",
    "            a= sum(torch.max(lm.forward(x1).t(),0)[1]==y1)\n",
    "            accuracy_train_2[r] += a.data[0]\n",
    "        accuracy_train_2[r] /= train_loader.dataset.train_data.size()[0]\n",
    "\n",
    "        for x1,y1 in test_loader:\n",
    "            x1= Variable(x1.view(x1.size()[0],28*28))\n",
    "            y1= Variable(y1)\n",
    "            a= sum(torch.max(lm.forward(x1).t(),0)[1]==y1)\n",
    "            accuracy_test_2[r] += a.data[0]\n",
    "        accuracy_test_2[r] /= test_loader.dataset.test_data.size()[0]\n",
    "        r+=1\n",
    "\n",
    "print('The Gradient descent took '+ str(round((time.time()-start)/60,3))+' min')\n",
    "import matplotlib.pyplot as plt\n",
    "\n",
    "plt.plot(accuracy_train_2,'y',marker='o')\n",
    "plt.plot(accuracy_test_2,'b',marker='o')\n",
    "plt.show()\n",
    "\n",
    "print(\"La valeur d'accuracy en test à la dernière itération est de \" + str(accuracy_test_2[r-1]))\n"
   ]
  },
  {
   "cell_type": "code",
   "execution_count": null,
   "metadata": {
    "collapsed": true
   },
   "outputs": [],
   "source": []
  },
  {
   "cell_type": "code",
   "execution_count": null,
   "metadata": {
    "collapsed": true
   },
   "outputs": [],
   "source": []
  },
  {
   "cell_type": "code",
   "execution_count": null,
   "metadata": {
    "collapsed": true
   },
   "outputs": [],
   "source": []
  },
  {
   "cell_type": "code",
   "execution_count": null,
   "metadata": {
    "collapsed": true
   },
   "outputs": [],
   "source": []
  },
  {
   "cell_type": "code",
   "execution_count": null,
   "metadata": {
    "collapsed": true
   },
   "outputs": [],
   "source": []
  }
 ],
 "metadata": {
  "kernelspec": {
   "display_name": "Python 3",
   "language": "python",
   "name": "python3"
  },
  "language_info": {
   "codemirror_mode": {
    "name": "ipython",
    "version": 3
   },
   "file_extension": ".py",
   "mimetype": "text/x-python",
   "name": "python",
   "nbconvert_exporter": "python",
   "pygments_lexer": "ipython3",
   "version": "3.6.2"
  }
 },
 "nbformat": 4,
 "nbformat_minor": 2
}
