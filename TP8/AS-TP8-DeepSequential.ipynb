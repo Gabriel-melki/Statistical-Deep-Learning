{
 "cells": [
  {
   "cell_type": "code",
   "execution_count": 2,
   "metadata": {
    "collapsed": true
   },
   "outputs": [],
   "source": [
    "import torch\n",
    "from torchvision import datasets, transforms\n",
    "import torch.autograd\n",
    "import torch.nn as nn\n",
    "import torch.nn.functional as F\n",
    "from torch.autograd import Variable\n",
    "import numpy as np\n",
    "import random\n",
    "import time\n",
    "import matplotlib.pyplot as plt\n",
    "\n",
    "\n",
    "class Fu(nn.Module):\n",
    "    def __init__(self,size_x,size_y,k):\n",
    "        nn.Module.__init__(self)\n",
    "        self.linear = nn.ModuleList([nn.Linear(size_x, size_y) for _ in range(k)])\n",
    "\n",
    "    def forward(self, x, h):\n",
    "        return F.tanh(self.linear[h].forward(x))\n",
    "\n",
    "\n",
    "class G(nn.Module):\n",
    "    def __init__(self, size_x, k):\n",
    "        nn.Module.__init__(self)\n",
    "        self.m = nn.Linear(size_x, k)\n",
    "\n",
    "    def forward(self, x):\n",
    "        return torch.log(F.softmax(self.m.forward(x)))\n",
    "\n"
   ]
  },
  {
   "cell_type": "code",
   "execution_count": 4,
   "metadata": {},
   "outputs": [
    {
     "data": {
      "image/png": "[encoded data removed]",
      "text/plain": [
       "<matplotlib.figure.Figure at 0x117505978>"
      ]
     },
     "metadata": {},
     "output_type": "display_data"
    }
   ],
   "source": [
    "def generateXor_dataset(nb_sample):\n",
    "    data = np.zeros((nb_sample,3))\n",
    "    for i in range(int(nb_sample/4)):\n",
    "        data[i][1] = (np.random.normal(1,0.1))\n",
    "        data[i][2] = (np.random.normal(5,0.1))\n",
    "        data[i][0] = int(1)\n",
    "\n",
    "    for i in range(int(nb_sample/4),int(0.5*nb_sample)):\n",
    "        data[i][1] = (np.random.normal(1,0.1))\n",
    "        data[i][2] = (np.random.normal(4,0.1))\n",
    "        data[i][0] = int(-1)\n",
    "\n",
    "    for i in range(int(0.5*nb_sample) ,int(0.75*nb_sample)):\n",
    "        data[i][1] = (np.random.normal(-1, 0.1))\n",
    "        data[i][2] = (np.random.normal(1, 0.1))\n",
    "        data[i][0] = int(-1)\n",
    "\n",
    "    for i in range(int(0.75*nb_sample),int(nb_sample)):\n",
    "        data[i][1] = (np.random.normal(-1,0.1))\n",
    "        data[i][2] = (np.random.normal(-1,0.1))\n",
    "        data[i][0] = int(1)\n",
    "\n",
    "    data= torch.from_numpy(data)\n",
    "    return data\n",
    "\n",
    "def plot_data(data, labels):\n",
    "    data = data.numpy()\n",
    "    labels = labels.numpy()\n",
    "    pos = np.where(labels == 1)[0]\n",
    "    neg = np.where(labels == -1)[0]\n",
    "\n",
    "    data = np.array(data.tolist())\n",
    "    plt.plot(data[pos, 0], data[pos, 1], 'ro')\n",
    "    plt.plot(data[neg, 0], data[neg, 1], 'b*')\n",
    "\n",
    "\n",
    "test = generateXor_dataset(40)\n",
    "plot_data(test[:,1:3],test[:,0])\n",
    "plt.show()"
   ]
  },
  {
   "cell_type": "code",
   "execution_count": null,
   "metadata": {},
   "outputs": [],
   "source": [
    "#data\n",
    "generate = generateXor_dataset(100)\n",
    "data = generate[:,1:3]\n",
    "label = generate[:,0]\n",
    "\n",
    "#taille de l'espace pour le tirage\n",
    "H=2\n",
    "\n",
    "g = G(2,2)\n",
    "f = Fu(2,2,2)\n",
    "l = nn.MSELoss()\n",
    "\n",
    "optimizer1 = torch.optim.Adam(f.parameters(),lr=0.05)\n",
    "optimizer2 = torch.optim.Adam(g.parameters(),lr=0.05)\n",
    "loss_array = []\n",
    "\n",
    "nb_iter = 300\n",
    "\n",
    "for it in range(nb_iter):\n",
    "    optimizer1.zero_grad()\n",
    "    optimizer2.zero_grad()\n",
    "    to_print = 0\n",
    "    for i in range(len(data)):\n",
    "\n",
    "        x = data[i,:]\n",
    "        x = x.type(torch.FloatTensor)\n",
    "        x = Variable(x)\n",
    "        logP = g.forward(x)\n",
    "        h = logP.exp().multinomial()\n",
    "\n",
    "        y = torch.zeros(2)\n",
    "        y[int((label[i]+1)/2)] = 1.\n",
    "\n",
    "        out = f.forward(x,h.data[0])\n",
    "\n",
    "        loss = l.forward(out, Variable(y))\n",
    "\n",
    "        loss.backward()\n",
    "\n",
    "        (logP[h.data]*Variable(loss.data)).backward()\n",
    "        to_print += (logP[0] * logP[0].exp() + logP[1] * logP[1].exp()).data[0]\n",
    "    loss_array.append(-to_print)\n",
    "    optimizer1.step()\n",
    "    optimizer2.step()\n",
    "\n",
    "\n",
    "plt.plot(loss_array)\n",
    "plt.show()"
   ]
  },
  {
   "cell_type": "code",
   "execution_count": 6,
   "metadata": {},
   "outputs": [
    {
     "name": "stdout",
     "output_type": "stream",
     "text": [
      "1.0\n"
     ]
    }
   ],
   "source": [
    "##ACCURACY\n",
    "accuracy = 0\n",
    "for i in range(len(data)):\n",
    "    x = data[i, :]\n",
    "    x = x.type(torch.FloatTensor)\n",
    "    x = Variable(x)\n",
    "    logP = g.forward(x)\n",
    "    h = logP.exp().multinomial()\n",
    "\n",
    "    out = f.forward(x, h.data[0])\n",
    "\n",
    "    y = (label[i]+1)/2\n",
    "    accuracy += 1*(torch.max(out,0)[1].data[0]==y)\n",
    "    #print(accuracy)\n",
    "print(accuracy / len(data))"
   ]
  },
  {
   "cell_type": "code",
   "execution_count": null,
   "metadata": {
    "collapsed": true
   },
   "outputs": [],
   "source": []
  },
  {
   "cell_type": "code",
   "execution_count": 7,
   "metadata": {},
   "outputs": [
    {
     "name": "stdout",
     "output_type": "stream",
     "text": [
      "3.8519773483276367*X + 2.3634684085845947*Y + -1.464447259902954=0\n"
     ]
    }
   ],
   "source": [
    "#Tracons la frontière pour le tirage\n",
    "#tous les parametres = poids + biais\n",
    "weight_frontiere = list(g.parameters())[0]\n",
    "bias_frontiere = list(g.parameters())[1]\n",
    "\n",
    "#l'équation \n",
    "print(str((weight_frontiere[0,0]-weight_frontiere[1,0]).data[0])+'*X + ' \n",
    "      + str((weight_frontiere[0,1]-weight_frontiere[1,1]).data[0])+'*Y + ' \n",
    "      + str((bias_frontiere[0]-bias_frontiere[1]).data[0]) + '=0')"
   ]
  },
  {
   "cell_type": "code",
   "execution_count": 11,
   "metadata": {},
   "outputs": [
    {
     "data": {
      "image/png": "[encoded data removed]",
      "text/plain": [
       "<matplotlib.figure.Figure at 0x11accaeb8>"
      ]
     },
     "metadata": {},
     "output_type": "display_data"
    }
   ],
   "source": [
    "def frontiere(x):\n",
    "    return((bias_frontiere[1]-bias_frontiere[0]).data[0]/(weight_frontiere[0,1]-weight_frontiere[1,1]).data[0] + (weight_frontiere[1,0]-weight_frontiere[0,0]).data[0]/(weight_frontiere[0,1]-weight_frontiere[1,1]).data[0]*x)\n",
    "frontiere = np.vectorize(frontiere)\n",
    "\n",
    "plot_data(test[:,1:3],test[:,0])\n",
    "plt.plot([i/4 for i in range(-7,13,1)],frontiere([i/4 for i in range(-7,13,1)]))\n",
    "\n",
    "plt.show()"
   ]
  },
  {
   "cell_type": "code",
   "execution_count": null,
   "metadata": {
    "collapsed": true
   },
   "outputs": [],
   "source": []
  },
  {
   "cell_type": "code",
   "execution_count": 12,
   "metadata": {},
   "outputs": [
    {
     "name": "stdout",
     "output_type": "stream",
     "text": [
      "2.2345685958862305*X + -1.994931936264038*Y + 6.6976213455200195=0\n",
      "0.15516254305839539*X + 1.9190865755081177*Y + 0.13995051383972168=0\n"
     ]
    }
   ],
   "source": [
    "weight_mod1 = list(f.linear[0].parameters())[0]\n",
    "bias_mod1 = list(f.linear[0].parameters())[1]\n",
    "\n",
    "#l'équation \n",
    "print(str((weight_mod1[0,0]-weight_mod1[1,0]).data[0])+'*X + ' \n",
    "      + str((weight_mod1[0,1]-weight_mod1[1,1]).data[0])+'*Y + ' \n",
    "      + str((bias_mod1[0]-bias_mod1[1]).data[0]) + '=0')\n",
    "\n",
    "def frontiere_mod1(x):\n",
    "    return((bias_mod1[1]-bias_mod1[0]).data[0]/(weight_mod1[0,1]-weight_mod1[1,1]).data[0] + (weight_mod1[1,0]-weight_mod1[0,0]).data[0]/(weight_mod1[0,1]-weight_mod1[1,1]).data[0]*x)\n",
    "frontiere_mod1 = np.vectorize(frontiere_mod1)\n",
    "\n",
    "weight_mod2 = list(f.linear[1].parameters())[0]\n",
    "bias_mod2 = list(f.linear[1].parameters())[1]\n",
    "\n",
    "#l'équation \n",
    "print(str((weight_mod2[0,0]-weight_mod2[1,0]).data[0])+'*X + ' \n",
    "      + str((weight_mod2[0,1]-weight_mod2[1,1]).data[0])+'*Y + ' \n",
    "      + str((bias_mod2[0]-bias_mod2[1]).data[0]) + '=0')\n",
    "\n",
    "def frontiere_mod2(x):\n",
    "    return((bias_mod2[1]-bias_mod2[0]).data[0]/(weight_mod2[0,1]-weight_mod2[1,1]).data[0] + (weight_mod2[1,0]-weight_mod2[0,0]).data[0]/(weight_mod2[0,1]-weight_mod2[1,1]).data[0]*x)\n",
    "frontiere_mod2 = np.vectorize(frontiere_mod2)\n"
   ]
  },
  {
   "cell_type": "code",
   "execution_count": 17,
   "metadata": {},
   "outputs": [
    {
     "data": {
      "image/png": "[encoded data removed]",
      "text/plain": [
       "<matplotlib.figure.Figure at 0x11b0ee7f0>"
      ]
     },
     "metadata": {},
     "output_type": "display_data"
    }
   ],
   "source": [
    "plot_data(test[:,1:3],test[:,0])\n",
    "plt.plot([i/5 for i in range(0,13,1)],frontiere_mod1([i/5 for i in range(0,13,1)]))\n",
    "plt.plot([i/5 for i in range(-13,0,1)],frontiere_mod2([i/5 for i in range(-13,0,1)]))\n",
    "plt.plot([i/5 for i in range(-7,13,1)],frontiere([i/5 for i in range(-7,13,1)]))\n",
    "\n",
    "plt.show()"
   ]
  },
  {
   "cell_type": "code",
   "execution_count": null,
   "metadata": {
    "collapsed": true
   },
   "outputs": [],
   "source": [
    "\n"
   ]
  },
  {
   "cell_type": "code",
   "execution_count": null,
   "metadata": {
    "collapsed": true
   },
   "outputs": [],
   "source": []
  },
  {
   "cell_type": "code",
   "execution_count": null,
   "metadata": {
    "collapsed": true
   },
   "outputs": [],
   "source": []
  }
 ],
 "metadata": {
  "kernelspec": {
   "display_name": "Python 3",
   "language": "python",
   "name": "python3"
  },
  "language_info": {
   "codemirror_mode": {
    "name": "ipython",
    "version": 3
   },
   "file_extension": ".py",
   "mimetype": "text/x-python",
   "name": "python",
   "nbconvert_exporter": "python",
   "pygments_lexer": "ipython3",
   "version": "3.6.2"
  }
 },
 "nbformat": 4,
 "nbformat_minor": 2
}
