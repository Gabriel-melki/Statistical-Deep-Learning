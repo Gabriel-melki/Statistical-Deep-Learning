{
 "cells": [
  {
   "cell_type": "markdown",
   "metadata": {},
   "source": [
    "# Stochastic and Batch Gradient Descent for Percetron from Scratch"
   ]
  },
  {
   "cell_type": "markdown",
   "metadata": {},
   "source": [
    "## Building the objects we need : Module (=perceptron) , Loss"
   ]
  },
  {
   "cell_type": "code",
   "execution_count": 73,
   "metadata": {},
   "outputs": [],
   "source": [
    "import numpy as np\n",
    "import random\n",
    "from sklearn.cross_validation import KFold, train_test_split\n",
    "\n",
    "class Module:\n",
    "    def forward(self,x):\n",
    "        pass\n",
    "    def backward_updateGradient(self,x,delta):\n",
    "        pass\n",
    "    def zeroGradParameters(self):\n",
    "        pass\n",
    "\n",
    "    \n",
    "class Loss:\n",
    "    def getLossValue(self, ypredit ,y):\n",
    "        pass\n",
    "    def backward(self,ypredit,y):\n",
    "        pass\n",
    "    \n",
    "        \n",
    "        \n",
    "class TanHModule(Module):\n",
    "    def __init__(self,dimension):\n",
    "        self.X = dimension\n",
    "    \n",
    "    def forward(self,x):\n",
    "        result[i] = np.tanh(x[i])\n",
    "        return result\n",
    "    \n",
    "    \n",
    "class SquareLoss(Loss) :\n",
    "    def __init__(self,dimension):\n",
    "        self.dimension=dimension\n",
    "        \n",
    "    def getLossValue (self, y_predit,y):\n",
    "        loss = 0.0\n",
    "        for k in range(0,self.dimension) :\n",
    "            loss += (y_predit[k]-y[k])**2\n",
    "        loss /= self.dimension\n",
    "        return loss\n",
    "    \n",
    "    def backward(self,y_predit, y):\n",
    "        grad = np.zeros(self.dimension)\n",
    "        for k in range(0,self.dimension):\n",
    "            grad[k] = 2/self.dimension*(y_predit[k]-y[k])\n",
    "        return grad\n",
    "    \n",
    "    \n",
    "class LinearModule(Module):\n",
    "    def __init__(self,n,C):\n",
    "        self.X = n #input_dimension\n",
    "        self.Y = C #ouput_dimension\n",
    "        self.theta = np.zeros((self.X,self.Y))\n",
    "        self.grad = np.zeros((self.X,self.Y))\n",
    "        \n",
    "    def zeroGradParameters(self):\n",
    "        self.grad = np.zeros((self.X,self.Y))\n",
    "\n",
    "    def forward(self,x):\n",
    "        result = np.dot(x,self.theta)\n",
    "        return result\n",
    "    \n",
    "    def randomize(self, variance):\n",
    "        for i in range(0,self.X):\n",
    "            for j in range(0,self.Y):\n",
    "                self.theta[i][j]= random.uniform(-variance,variance)\n",
    "        \n",
    "    def backward_updateGradient(self,x,delta):\n",
    "        #delta = R^C\n",
    "        #Grad_\\theta(loss(f_theta(x),y) \\in R^{C \\times n}\n",
    "        for i in range(0,self.X):\n",
    "            for j in range(0,self.Y):\n",
    "                self.grad[i][j] += delta[j]*x[i]\n",
    "        #return self.grad\n",
    "    \n",
    "    def updateParameters(self,learning_rate):\n",
    "        self.theta = self.theta - learning_rate*self.grad"
   ]
  },
  {
   "cell_type": "markdown",
   "metadata": {},
   "source": [
    "## Getting the data"
   ]
  },
  {
   "cell_type": "code",
   "execution_count": 74,
   "metadata": {},
   "outputs": [],
   "source": [
    "def read_libsvm(fname):\n",
    "    with open(fname) as f:\n",
    "        x,y  =list(),list()\n",
    "        for l in f:\n",
    "            line = l.strip().split(\" \")\n",
    "            y.append(int(line[0]))\n",
    "            x.append([float(s.split(\":\")[1]) for s in line[1:]])\n",
    "    return np.array(y),np.array(x)\n",
    "\n",
    "data = read_libsvm('/Users/melkigabriel/Desktop/UPMC/AS/tp/breast-cancer_scale.txt')\n",
    "data_real = np.concatenate((np.asmatrix(data[1]),np.transpose(np.asmatrix(data[0]))),axis=1)\n",
    "\n",
    "x_train, x_test, y_train, y_test = train_test_split(np.asarray(data_real[:,0:10]),np.asarray(data_real[:,10])\n",
    "                                                    , test_size=0.33,random_state=42)\n",
    "\n",
    "#Put labels at -1 and +1\n",
    "y_train = y_train - 3 \n",
    "y_test = y_test - 3"
   ]
  },
  {
   "cell_type": "markdown",
   "metadata": {},
   "source": [
    "## Creating the objects and defining the parameters"
   ]
  },
  {
   "cell_type": "code",
   "execution_count": 83,
   "metadata": {},
   "outputs": [],
   "source": [
    "model = LinearModule(10,1)\n",
    "model.randomize(0.1)\n",
    "criterion = SquareLoss(1)\n",
    "learning_rate= 0.01 \n",
    "maxEpoch = 1000 \n",
    "\n",
    "all_losses= np.zeros(maxEpoch)\n",
    "all_losses_global_train=np.zeros(maxEpoch)\n",
    "all_losses_global_test=np.zeros(maxEpoch)\n",
    "all_out =np.zeros(maxEpoch)\n",
    "accuracy_train=np.zeros(maxEpoch)\n",
    "accuracy_test=np.zeros(maxEpoch)"
   ]
  },
  {
   "cell_type": "markdown",
   "metadata": {},
   "source": [
    "## Stochastic Gradient Descent"
   ]
  },
  {
   "cell_type": "code",
   "execution_count": 84,
   "metadata": {},
   "outputs": [],
   "source": [
    "import time\n",
    "time_started = time.time()\n",
    "\n",
    "for iteration in range(0,maxEpoch): \n",
    "    j=random.randint(0,len(x_train)-1)\n",
    "    model.zeroGradParameters()\n",
    "    x=x_train[j]\n",
    "    y=[y_train[j]]\n",
    "    out = model.forward(x) #value with module\n",
    "    loss=criterion.getLossValue(out,y) #loss between y-predicted et y\n",
    "    delta=criterion.backward(out,y) #first part of the gradient\n",
    "    model.backward_updateGradient(x,delta) #gradient is calculated\n",
    "    all_losses[iteration]=loss #Loss\n",
    "    model.updateParameters(learning_rate) #update \n",
    "    \n",
    "    \n",
    "    ##Measuring Loss and Accuracy on test and train sets.\n",
    "    all_losses_global_test[iteration] = 0\n",
    "    for k in range(0,len(x_test)):\n",
    "        all_losses_global_test[iteration] += criterion.getLossValue(model.forward(x_test[k]),[y_test[k]])/len(x_test)\n",
    "    \n",
    "    all_losses_global_train[iteration] = 0\n",
    "    for k in range(0,len(x_train)):\n",
    "        all_losses_global_train[iteration] += criterion.getLossValue(model.forward(x_train[k]),[y_train[k]])/len(x_train)\n",
    "    \n",
    "    \n",
    "    accuracy_train[iteration] = 0\n",
    "    for k in range(0,len(x_train)):\n",
    "        accuracy_train[iteration] += ((np.sign(model.forward(x_train[k]))*[y_train[k]])+1)/2/len(x_train)\n",
    "     \n",
    "    accuracy_test[iteration] = 0\n",
    "    for k in range(0,len(x_test)):\n",
    "        accuracy_test[iteration] += ((np.sign(model.forward(x_test[k]))*[y_test[k]])+1)/2/len(x_test)\n",
    "\n",
    "time_finished = time.time()   "
   ]
  },
  {
   "cell_type": "markdown",
   "metadata": {},
   "source": [
    "## Results for Stochastic gradient descent  "
   ]
  },
  {
   "cell_type": "code",
   "execution_count": 86,
   "metadata": {},
   "outputs": [
    {
     "data": {
      "image/png": "[encoded data removed]",
      "text/plain": [
       "<matplotlib.figure.Figure at 0x1a1eab82b0>"
      ]
     },
     "metadata": {},
     "output_type": "display_data"
    }
   ],
   "source": [
    "#Losses\n",
    "import matplotlib.pyplot as plt\n",
    "plt.plot(all_losses_global_train,'y')\n",
    "plt.plot(all_losses_global_test,'b')\n",
    "plt.show()"
   ]
  },
  {
   "cell_type": "code",
   "execution_count": 82,
   "metadata": {},
   "outputs": [
    {
     "data": {
      "image/png": "[encoded data removed]",
      "text/plain": [
       "<matplotlib.figure.Figure at 0x1a1e555438>"
      ]
     },
     "metadata": {},
     "output_type": "display_data"
    }
   ],
   "source": [
    "#Accuracy\n",
    "plt.plot(accuracy_train,'y')\n",
    "plt.plot(accuracy_test,'b')\n",
    "plt.show()"
   ]
  },
  {
   "cell_type": "code",
   "execution_count": 103,
   "metadata": {},
   "outputs": [
    {
     "name": "stdout",
     "output_type": "stream",
     "text": [
      "The Stochastic Gradient Descent took 31.04 seconds\n",
      "Last Accuracy on train/test were 96.50% / 94.25% \n",
      "Last Loss on train/test were 13.04% / 17.75% \n"
     ]
    }
   ],
   "source": [
    "#Time taken \n",
    "print(f'The Stochastic Gradient Descent took {time_finished-time_started:.2f} seconds')\n",
    "print(f'Last Accuracy on train/test were {accuracy_train[-1]*100:.2f}% / {accuracy_test[-1]*100:.2f}% ')\n",
    "print(f'Last Loss on train/test were {all_losses_global_train[-1]*100:.2f}% / {all_losses_global_test[-1]*100:.2f}% ')"
   ]
  },
  {
   "cell_type": "markdown",
   "metadata": {},
   "source": [
    "## Batch Gradient Descent"
   ]
  },
  {
   "cell_type": "code",
   "execution_count": 93,
   "metadata": {},
   "outputs": [],
   "source": [
    "model = LinearModule(10,1)\n",
    "model.randomize(0.1)\n",
    "criterion = SquareLoss(1)\n",
    "learning_rate= 0.001\n",
    "maxEpoch = 1000 \n",
    "\n",
    "all_losses_global_train_batch=np.zeros(maxEpoch)\n",
    "all_losses_global_test_batch=np.zeros(maxEpoch)\n",
    "accuracy_train_batch=np.zeros(maxEpoch)\n",
    "accuracy_test_batch=np.zeros(maxEpoch)"
   ]
  },
  {
   "cell_type": "code",
   "execution_count": 94,
   "metadata": {},
   "outputs": [],
   "source": [
    "time_started = time.time()\n",
    "for iteration in range(0,maxEpoch) :\n",
    "    model.zeroGradParameters()\n",
    "    loss=0\n",
    "    for j in range(0,len(x_train)):\n",
    "        x=x_train[j]\n",
    "        y=[y_train[j]]\n",
    "        out = model.forward(x) #valeur avec le modele\n",
    "        loss += criterion.getLossValue(out,y) #cout entre y_prédit et y\n",
    "        delta = criterion.backward(out,y)\n",
    "        model.backward_updateGradient(x,delta/len(x_train))\n",
    "    all_losses_global_train_batch[iteration]= loss/len(x_train)\n",
    "    \n",
    "    all_losses_global_test_batch[iteration] = 0\n",
    "    for k in range(0,len(x_test)):\n",
    "        all_losses_global_test_batch[iteration] += criterion.getLossValue(model.forward(x_test[k]),[y_test[k]])/len(x_test)\n",
    "    \n",
    "    accuracy_train_batch[iteration] = 0\n",
    "    for k in range(0,len(x_train)):\n",
    "        accuracy_train_batch[iteration] += ((np.sign(model.forward(x_train[k]))*[y_train[k]])+1)/2/len(x_train)\n",
    "     \n",
    "    accuracy_test_batch[iteration] = 0\n",
    "    for k in range(0,len(x_test)):\n",
    "        accuracy_test_batch[iteration] += ((np.sign(model.forward(x_test[k]))*[y_test[k]])+1)/2/len(x_test)\n",
    "     \n",
    "    model.updateParameters(learning_rate) \n",
    "\n",
    "time_finished = time.time()"
   ]
  },
  {
   "cell_type": "code",
   "execution_count": 96,
   "metadata": {},
   "outputs": [
    {
     "data": {
      "image/png": "[encoded data removed]",
      "text/plain": [
       "<matplotlib.figure.Figure at 0x1a1ed8f9e8>"
      ]
     },
     "metadata": {},
     "output_type": "display_data"
    }
   ],
   "source": [
    "import matplotlib.pyplot as plt\n",
    "plt.plot(all_losses_global_train_batch,'y')\n",
    "plt.plot(all_losses_global_test_batch,'b')\n",
    "plt.show()"
   ]
  },
  {
   "cell_type": "code",
   "execution_count": 97,
   "metadata": {},
   "outputs": [
    {
     "data": {
      "image/png": "[encoded data removed]",
      "text/plain": [
       "<matplotlib.figure.Figure at 0x1a1ec70748>"
      ]
     },
     "metadata": {},
     "output_type": "display_data"
    }
   ],
   "source": [
    "#Accuracy\n",
    "plt.plot(accuracy_train_batch,'y')\n",
    "plt.plot(accuracy_test_batch,'b')\n",
    "plt.show()"
   ]
  },
  {
   "cell_type": "code",
   "execution_count": 104,
   "metadata": {},
   "outputs": [
    {
     "name": "stdout",
     "output_type": "stream",
     "text": [
      "The Stochastic Gradient Descent took 31.04 seconds\n",
      "Last Accuracy on train/test were 96.06% / 92.48% \n",
      "Last Loss on train/test were 15.92% / 19.97% \n"
     ]
    }
   ],
   "source": [
    "#Time taken \n",
    "print(f'The Stochastic Gradient Descent took {time_finished-time_started:.2f} seconds')\n",
    "print(f'Last Accuracy on train/test were {accuracy_train_batch[-1]*100:.2f}% / {accuracy_test_batch[-1]*100:.2f}% ')\n",
    "print(f'Last Loss on train/test were {all_losses_global_train_batch[-1]*100:.2f}% / {all_losses_global_test_batch[-1]*100:.2f}% ')"
   ]
  }
 ],
 "metadata": {
  "kernelspec": {
   "display_name": "Python 3",
   "language": "python",
   "name": "python3"
  },
  "language_info": {
   "codemirror_mode": {
    "name": "ipython",
    "version": 3
   },
   "file_extension": ".py",
   "mimetype": "text/x-python",
   "name": "python",
   "nbconvert_exporter": "python",
   "pygments_lexer": "ipython3",
   "version": "3.6.4"
  }
 },
 "nbformat": 4,
 "nbformat_minor": 2
}
